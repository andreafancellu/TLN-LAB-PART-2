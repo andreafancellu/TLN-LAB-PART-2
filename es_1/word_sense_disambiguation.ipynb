{
 "cells": [
  {
   "cell_type": "markdown",
   "metadata": {},
   "source": [
    "http://web.eecs.umich.edu/~mihalcea/downloads.html"
   ]
  },
  {
   "cell_type": "code",
   "execution_count": 1,
   "metadata": {},
   "outputs": [],
   "source": [
    "import nltk\n",
    "from nltk.corpus import wordnet as wn\n",
    "from nltk.corpus import semcor\n",
    "from nltk.stem import PorterStemmer\n",
    "from nltk.stem import WordNetLemmatizer\n",
    "from nltk.tokenize import word_tokenize\n",
    "from nltk.corpus import stopwords \n",
    "import matplotlib.pyplot as plt\n",
    "import random\n",
    "import string\n",
    "from pprint import pprint\n",
    "from nltk.wsd import lesk"
   ]
  },
  {
   "cell_type": "markdown",
   "metadata": {},
   "source": [
    "### Funzioni usate dall'algoritmo di Lesk"
   ]
  },
  {
   "cell_type": "code",
   "execution_count": 2,
   "metadata": {},
   "outputs": [],
   "source": [
    "def get_context(sentence):\n",
    "    # bag of words approach\n",
    "    sentence.lower()\n",
    "    tokens = word_tokenize(sentence) \n",
    "    tokens = list(filter(lambda token: token not in string.punctuation, tokens))\n",
    "    wnl = nltk.WordNetLemmatizer()\n",
    "    return [wnl.lemmatize(token.lower()) for token in tokens if token not in stopwords.words('english')] \n",
    "\n",
    "def get_gloss_examples(sense):\n",
    "    gloss = get_context(sense.definition())\n",
    "    examples = get_context(' '.join((sense).examples()))\n",
    "    return gloss + examples\n",
    "\n",
    "def get_overlap(list_1, list_2):\n",
    "    return [value for value in list_1 if value in list_2]"
   ]
  },
  {
   "cell_type": "markdown",
   "metadata": {},
   "source": [
    "### Algoritmo di Lesk"
   ]
  },
  {
   "cell_type": "code",
   "execution_count": 3,
   "metadata": {},
   "outputs": [],
   "source": [
    "def my_lesk(word, sentence):\n",
    "    if len(wn.synsets(word)) == 0:\n",
    "        return None\n",
    "    best_sense = wn.synsets(word)[0]\n",
    "    max_overlap = 0\n",
    "    context = get_context(sentence)\n",
    "    signature = None\n",
    "    overlap = None\n",
    "    for sense in wn.synsets(word):\n",
    "        signature = get_gloss_examples(sense)\n",
    "        overlap = get_overlap(context, signature)\n",
    "        if len(overlap) > max_overlap:\n",
    "            max_overlap = len(overlap)\n",
    "            best_sense = sense\n",
    "    return best_sense"
   ]
  },
  {
   "cell_type": "code",
   "execution_count": 4,
   "metadata": {},
   "outputs": [
    {
     "name": "stdout",
     "output_type": "stream",
     "text": [
      "Synset('depository_financial_institution.n.01')\n",
      "Synset('savings_bank.n.02') \n",
      "\n",
      "Synset('bank.n.01')\n",
      "Synset('savings_bank.n.02')\n"
     ]
    }
   ],
   "source": [
    "sentence = \"i want to go to the bank to deposit my money\"\n",
    "sentence1 = \"the bank of the river\"\n",
    "\n",
    "print(my_lesk('bank', sentence))\n",
    "print(lesk(sentence, 'bank'), '\\n')\n",
    "print(my_lesk('bank', sentence1))\n",
    "print(lesk(sentence1, 'bank'))"
   ]
  },
  {
   "cell_type": "markdown",
   "metadata": {},
   "source": [
    "### Funzioni utili per l'esecuzione dell'algoritmo di Lesk su 50 frasi scelte randomicamente da SemCor"
   ]
  },
  {
   "cell_type": "code",
   "execution_count": 5,
   "metadata": {},
   "outputs": [],
   "source": [
    "def get_rand_elems(tagged_sentences):\n",
    "    phrases = []\n",
    "    extracted = []\n",
    "    while len(phrases) < 50:\n",
    "        rand = random.randint(0, len(tagged_sentences))\n",
    "        if '\\'NN\\'' in str(tagged_sentences[rand]) and rand not in extracted and '.n.' in str(tagged_sentences[rand]):\n",
    "            phrases.append(tagged_sentences[rand])\n",
    "            extracted.append(rand)\n",
    "    return phrases, extracted\n",
    "\n",
    "def get_nouns(list_of_sentences):\n",
    "    nouns = []\n",
    "    for sentence in list_of_sentences:\n",
    "        for word in sentence:\n",
    "            if word.pos()[0][1] == 'NN' and '.n.' in str(word):\n",
    "                nouns.append([word.leaves(), word.label()]) # coppia (parola, synset corretto)\n",
    "                break\n",
    "    return nouns    \n",
    "     \n",
    "def list_to_string(s):\n",
    "    str1 = ''\n",
    "    for ele in s:\n",
    "        str1 += ele + ' '  \n",
    "    return str1"
   ]
  },
  {
   "cell_type": "markdown",
   "metadata": {},
   "source": [
    "### Esecuzione"
   ]
  },
  {
   "cell_type": "markdown",
   "metadata": {},
   "source": [
    "Frasi annotatate con synset su SemCor"
   ]
  },
  {
   "cell_type": "code",
   "execution_count": 6,
   "metadata": {},
   "outputs": [],
   "source": [
    "sentences = semcor.sents()\n",
    "tagged_sentences = semcor.tagged_sents(tag=\"both\")"
   ]
  },
  {
   "cell_type": "markdown",
   "metadata": {},
   "source": [
    "esecuzione dell'algoritmo di Lesk su ogni sostantivo estratto"
   ]
  },
  {
   "cell_type": "code",
   "execution_count": 7,
   "metadata": {},
   "outputs": [],
   "source": [
    "def execution(tagged_sentences, iterations):\n",
    "    current_ex = 0\n",
    "    accuracies = [] # salvo l'accuratezza per ogni iterazione\n",
    "    while current_ex < iterations:\n",
    "        random_sentences, rand = get_rand_elems(tagged_sentences)\n",
    "        nouns = get_nouns(random_sentences)\n",
    "        correct = 0\n",
    "        for i in range(len(nouns)):\n",
    "            actual_lesk = my_lesk(nouns[i][0][0], list_to_string(sentences[rand[i]]))\n",
    "            if actual_lesk is not None:\n",
    "                if str(actual_lesk).split('\\'')[1] in str(nouns[i][1]):\n",
    "                    correct += 1\n",
    "                    #print(actual_lesk)\n",
    "\n",
    "        accuracies.append(correct/len(nouns))\n",
    "        current_ex += 1\n",
    "    return accuracies"
   ]
  },
  {
   "cell_type": "markdown",
   "metadata": {},
   "source": [
    "### Andamento dell'accuracy su 10 e 20 esecuzioni"
   ]
  },
  {
   "cell_type": "code",
   "execution_count": 8,
   "metadata": {},
   "outputs": [
    {
     "data": {
      "image/png": "[encoded data removed]",
      "text/plain": [
       "<Figure size 432x288 with 1 Axes>"
      ]
     },
     "metadata": {
      "needs_background": "light"
     },
     "output_type": "display_data"
    },
    {
     "name": "stdout",
     "output_type": "stream",
     "text": [
      "AVG ACCURACY: 0.49\n",
      "\n",
      "MAX ACCURACY: 0.58\n",
      "\n",
      "MIN ACCURACY: 0.4\n",
      "\n",
      "[0.54, 0.58, 0.52, 0.52, 0.48, 0.4, 0.54, 0.46938775510204084, 0.42, 0.40816326530612246]\n"
     ]
    }
   ],
   "source": [
    "accuracies_10 = execution(tagged_sentences, 10)\n",
    "plt.plot(accuracies_10)\n",
    "plt.show()\n",
    "print(f\"AVG ACCURACY: {round(sum(accuracies_10)/len(accuracies_10),2)}\\n\")\n",
    "print(f\"MAX ACCURACY: {round(max(accuracies_10),2)}\\n\")\n",
    "print(f\"MIN ACCURACY: {round(min(accuracies_10), 2)}\\n\")\n",
    "print(accuracies_10)"
   ]
  },
  {
   "cell_type": "code",
   "execution_count": 9,
   "metadata": {},
   "outputs": [
    {
     "data": {
      "image/png": "[encoded data removed]",
      "text/plain": [
       "<Figure size 432x288 with 1 Axes>"
      ]
     },
     "metadata": {
      "needs_background": "light"
     },
     "output_type": "display_data"
    },
    {
     "name": "stdout",
     "output_type": "stream",
     "text": [
      "AVG ACCURACY: 0.46\n",
      "MAX ACCURACY: 0.56\n",
      "MIN ACCURACY: 0.36\n",
      "[0.4, 0.42, 0.54, 0.48, 0.4, 0.46, 0.36, 0.54, 0.5, 0.4897959183673469, 0.48, 0.46, 0.5625, 0.46, 0.5, 0.4489795918367347, 0.5, 0.38, 0.46, 0.42]\n"
     ]
    }
   ],
   "source": [
    "accuracies_20 = execution(tagged_sentences, 20)\n",
    "plt.plot(accuracies_20)\n",
    "plt.show()\n",
    "print(f\"AVG ACCURACY: {round(sum(accuracies_20)/len(accuracies_20), 2)}\")\n",
    "print(f\"MAX ACCURACY: {round(max(accuracies_20),2)}\")\n",
    "print(f\"MIN ACCURACY: {round(min(accuracies_20), 2)}\")\n",
    "print(accuracies_20)"
   ]
  }
 ],
 "metadata": {
  "kernelspec": {
   "display_name": "Python 3.10.4 64-bit",
   "language": "python",
   "name": "python3"
  },
  "language_info": {
   "codemirror_mode": {
    "name": "ipython",
    "version": 3
   },
   "file_extension": ".py",
   "mimetype": "text/x-python",
   "name": "python",
   "nbconvert_exporter": "python",
   "pygments_lexer": "ipython3",
   "version": "3.10.4"
  },
  "orig_nbformat": 4,
  "vscode": {
   "interpreter": {
    "hash": "6847c98a8f86b01c6a19c518cd2f366693b80566b266804d5ca763cbb223f52b"
   }
  }
 },
 "nbformat": 4,
 "nbformat_minor": 2
}
