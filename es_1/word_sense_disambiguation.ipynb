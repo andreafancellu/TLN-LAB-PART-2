{
 "cells": [
  {
   "cell_type": "markdown",
   "metadata": {},
   "source": [
    "http://web.eecs.umich.edu/~mihalcea/downloads.html"
   ]
  },
  {
   "cell_type": "code",
   "execution_count": 2,
   "metadata": {},
   "outputs": [],
   "source": [
    "import nltk\n",
    "from nltk.corpus import wordnet as wn\n",
    "from nltk.corpus import semcor\n",
    "from nltk.stem import PorterStemmer\n",
    "from nltk.stem import WordNetLemmatizer\n",
    "from nltk.tokenize import word_tokenize\n",
    "from nltk.corpus import stopwords \n",
    "import matplotlib.pyplot as plt\n",
    "import random\n",
    "import string\n",
    "from pprint import pprint\n",
    "from nltk.wsd import lesk"
   ]
  },
  {
   "cell_type": "markdown",
   "metadata": {},
   "source": [
    "### Funzioni usate dall'algoritmo di Lesk"
   ]
  },
  {
   "cell_type": "code",
   "execution_count": 3,
   "metadata": {},
   "outputs": [],
   "source": [
    "def get_context(sentence):\n",
    "    # bag of words approach\n",
    "    sentence.lower()\n",
    "    tokens = word_tokenize(sentence) \n",
    "    tokens = list(filter(lambda token: token not in string.punctuation, tokens))\n",
    "    wnl = nltk.WordNetLemmatizer()\n",
    "    return [wnl.lemmatize(token.lower()) for token in tokens if token not in stopwords.words('english')] \n",
    "\n",
    "def get_gloss_examples(sense):\n",
    "    gloss = get_context(sense.definition())\n",
    "    examples = get_context(' '.join((sense).examples()))\n",
    "    return gloss + examples\n",
    "\n",
    "def get_overlap(list_1, list_2):\n",
    "    return [value for value in list_1 if value in list_2]"
   ]
  },
  {
   "cell_type": "markdown",
   "metadata": {},
   "source": [
    "### Algoritmo di Lesk"
   ]
  },
  {
   "cell_type": "code",
   "execution_count": 4,
   "metadata": {},
   "outputs": [],
   "source": [
    "def my_lesk(word, sentence):\n",
    "    if len(wn.synsets(word)) == 0:\n",
    "        return None\n",
    "    best_sense = wn.synsets(word)[0]\n",
    "    max_overlap = 0\n",
    "    context = get_context(sentence)\n",
    "    signature = None\n",
    "    overlap = None\n",
    "    for sense in wn.synsets(word):\n",
    "        signature = get_gloss_examples(sense)\n",
    "        overlap = get_overlap(context, signature)\n",
    "        if len(overlap) > max_overlap:\n",
    "            max_overlap = len(overlap)\n",
    "            best_sense = sense\n",
    "    return best_sense"
   ]
  },
  {
   "cell_type": "code",
   "execution_count": 5,
   "metadata": {},
   "outputs": [
    {
     "name": "stdout",
     "output_type": "stream",
     "text": [
      "Synset('dog.n.03')\n",
      "Synset('pawl.n.01')\n"
     ]
    }
   ],
   "source": [
    "sentence = \"you're a lucky dog, man\"\n",
    "print(my_lesk('dog', sentence))\n",
    "print(lesk(sentence, 'dog'))"
   ]
  },
  {
   "cell_type": "markdown",
   "metadata": {},
   "source": [
    "### Funzioni utili per l'esecuzione dell'algoritmo di Lesk su 50 frasi scelte randomicamente da SemCor"
   ]
  },
  {
   "cell_type": "code",
   "execution_count": 19,
   "metadata": {},
   "outputs": [],
   "source": [
    "def get_rand_elems(tagged_sentences):\n",
    "    phrases = []\n",
    "    extracted = []\n",
    "    while len(phrases) < 50:\n",
    "        rand = random.randint(0, len(tagged_sentences))\n",
    "        if '\\'NN\\'' in str(tagged_sentences[rand]) and rand not in extracted and '.n.' in str(tagged_sentences[rand]):\n",
    "            phrases.append(tagged_sentences[rand])\n",
    "            extracted.append(rand)\n",
    "    return phrases, extracted\n",
    "\n",
    "def get_nouns(list_of_sentences):\n",
    "    nouns = []\n",
    "    for sentence in list_of_sentences:\n",
    "        for word in sentence:\n",
    "            if word.pos()[0][1] == 'NN' and '.n.' in str(word):\n",
    "                nouns.append([word.leaves(), word.label()]) # coppia (parola, synset corretto)\n",
    "                break\n",
    "    return nouns    \n",
    "     \n",
    "def list_to_string(s):\n",
    "    str1 = ''\n",
    "    for ele in s:\n",
    "        str1 += ele + ' '  \n",
    "    return str1"
   ]
  },
  {
   "cell_type": "markdown",
   "metadata": {},
   "source": [
    "### Esecuzione"
   ]
  },
  {
   "cell_type": "markdown",
   "metadata": {},
   "source": [
    "Frasi annotatate con synset su SemCor"
   ]
  },
  {
   "cell_type": "code",
   "execution_count": 7,
   "metadata": {},
   "outputs": [],
   "source": [
    "sentences = semcor.sents()\n",
    "tagged_sentences = semcor.tagged_sents(tag=\"both\")"
   ]
  },
  {
   "cell_type": "markdown",
   "metadata": {},
   "source": [
    "esecuzione dell'algoritmo di Lesk su ogni sostantivo estratto"
   ]
  },
  {
   "cell_type": "code",
   "execution_count": 24,
   "metadata": {},
   "outputs": [],
   "source": [
    "def execution(tagged_sentences, iterations):\n",
    "    current_ex = 0\n",
    "    accuracies = [] # salvo l'accuratezza per ogni iterazione\n",
    "    while current_ex < iterations:\n",
    "        random_sentences, rand = get_rand_elems(tagged_sentences)\n",
    "        nouns = get_nouns(random_sentences)\n",
    "        correct = 0\n",
    "        for i in range(len(nouns)):\n",
    "            actual_lesk = my_lesk(nouns[i][0][0], list_to_string(sentences[rand[i]]))\n",
    "            if actual_lesk is not None:\n",
    "                if str(actual_lesk).split('\\'')[1] in str(nouns[i][1]):\n",
    "                    correct += 1\n",
    "                    #print(actual_lesk)\n",
    "\n",
    "        accuracies.append(correct/len(nouns))\n",
    "        current_ex += 1\n",
    "    return accuracies"
   ]
  },
  {
   "cell_type": "markdown",
   "metadata": {},
   "source": [
    "### Andamento dell'accuracy su 10 e 100 esecuzioni"
   ]
  },
  {
   "cell_type": "code",
   "execution_count": 25,
   "metadata": {},
   "outputs": [
    {
     "data": {
      "image/png": "[encoded data removed]",
      "text/plain": [
       "<Figure size 432x288 with 1 Axes>"
      ]
     },
     "metadata": {
      "needs_background": "light"
     },
     "output_type": "display_data"
    },
    {
     "name": "stdout",
     "output_type": "stream",
     "text": [
      "AVG ACCURACY: 0.5\n",
      "\n",
      "MAX ACCURACY: 0.59\n",
      "\n",
      "MIN ACCURACY: 0.26\n",
      "\n",
      "[0.5102040816326531, 0.5, 0.56, 0.5918367346938775, 0.26, 0.54, 0.58, 0.54, 0.52, 0.4]\n"
     ]
    }
   ],
   "source": [
    "accuracies_10 = execution(tagged_sentences, 10)\n",
    "plt.plot(accuracies_10)\n",
    "plt.show()\n",
    "print(f\"AVG ACCURACY: {round(sum(accuracies_10)/len(accuracies_10),2)}\\n\")\n",
    "print(f\"MAX ACCURACY: {round(max(accuracies_10),2)}\\n\")\n",
    "print(f\"MIN ACCURACY: {round(min(accuracies_10), 2)}\\n\")\n",
    "print(accuracies_10)"
   ]
  },
  {
   "cell_type": "code",
   "execution_count": 20,
   "metadata": {},
   "outputs": [
    {
     "data": {
      "image/png": "[encoded data removed]",
      "text/plain": [
       "<Figure size 432x288 with 1 Axes>"
      ]
     },
     "metadata": {
      "needs_background": "light"
     },
     "output_type": "display_data"
    },
    {
     "name": "stdout",
     "output_type": "stream",
     "text": [
      "AVG ACCURACY: 0.49\n",
      "MAX ACCURACY: 0.68\n",
      "MIN ACCURACY: 0.32\n",
      "[0.46, 0.56, 0.5306122448979592, 0.5, 0.46, 0.56, 0.5510204081632653, 0.5306122448979592, 0.52, 0.4, 0.42, 0.44, 0.56, 0.44, 0.5, 0.54, 0.38, 0.68, 0.58, 0.5306122448979592, 0.5, 0.46, 0.52, 0.48, 0.32, 0.54, 0.36, 0.44, 0.48, 0.46, 0.4, 0.46, 0.44, 0.44, 0.44, 0.5, 0.54, 0.58, 0.52, 0.56, 0.4897959183673469, 0.48, 0.44, 0.44, 0.46, 0.5, 0.56, 0.48, 0.48, 0.46]\n"
     ]
    }
   ],
   "source": [
    "accuracies_100 = execution(tagged_sentences, 50)\n",
    "plt.plot(accuracies_100)\n",
    "plt.show()\n",
    "print(f\"AVG ACCURACY: {round(sum(accuracies_100)/len(accuracies_100), 2)}\")\n",
    "print(f\"MAX ACCURACY: {round(max(accuracies_100),2)}\")\n",
    "print(f\"MIN ACCURACY: {round(min(accuracies_100), 2)}\")\n",
    "print(accuracies_100)"
   ]
  }
 ],
 "metadata": {
  "kernelspec": {
   "display_name": "Python 3.8.12 ('spacy')",
   "language": "python",
   "name": "python3"
  },
  "language_info": {
   "codemirror_mode": {
    "name": "ipython",
    "version": 3
   },
   "file_extension": ".py",
   "mimetype": "text/x-python",
   "name": "python",
   "nbconvert_exporter": "python",
   "pygments_lexer": "ipython3",
   "version": "3.8.12"
  },
  "orig_nbformat": 4,
  "vscode": {
   "interpreter": {
    "hash": "3525effbb77994477fa12acef781f772c9be5a5a62ddcd46b88c81c6046781ff"
   }
  }
 },
 "nbformat": 4,
 "nbformat_minor": 2
}
