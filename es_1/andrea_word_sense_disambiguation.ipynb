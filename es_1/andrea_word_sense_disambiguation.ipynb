{
 "cells": [
  {
   "cell_type": "markdown",
   "metadata": {},
   "source": [
    "http://web.eecs.umich.edu/~mihalcea/downloads.html"
   ]
  },
  {
   "cell_type": "code",
   "execution_count": 1,
   "metadata": {},
   "outputs": [],
   "source": [
    "import nltk\n",
    "from nltk.corpus import wordnet as wn\n",
    "from nltk.corpus import semcor\n",
    "from nltk.stem import PorterStemmer\n",
    "from nltk.stem import WordNetLemmatizer\n",
    "from nltk.tokenize import word_tokenize\n",
    "from nltk.corpus import stopwords \n",
    "import matplotlib.pyplot as plt\n",
    "import random\n",
    "import string\n",
    "from pprint import pprint"
   ]
  },
  {
   "cell_type": "markdown",
   "metadata": {},
   "source": [
    "### Funzioni usate dall'algoritmo di Lesk"
   ]
  },
  {
   "cell_type": "code",
   "execution_count": 2,
   "metadata": {},
   "outputs": [],
   "source": [
    "def get_context(sentence):\n",
    "    # bag of words approach\n",
    "    sentence.lower()\n",
    "    tokens = word_tokenize(sentence) \n",
    "    tokens = list(filter(lambda token: token not in string.punctuation, tokens))\n",
    "    wnl = nltk.WordNetLemmatizer()\n",
    "    ps = PorterStemmer()\n",
    "    return [ps.stem(wnl.lemmatize(token.lower())) for token in tokens if token not in stopwords.words('english')] \n",
    "    #lemma o stemma? solo uno dei due e o entrambi?\n",
    "\n",
    "def get_gloss_examples(sense):\n",
    "    gloss = get_context(sense.definition())\n",
    "    examples = get_context(' '.join((sense).examples()))\n",
    "    return gloss + examples\n",
    "\n",
    "def get_overlap(list_1, list_2):\n",
    "    return [value for value in list_1 if value in list_2]"
   ]
  },
  {
   "cell_type": "markdown",
   "metadata": {},
   "source": [
    "### Algoritmo di Lesk"
   ]
  },
  {
   "cell_type": "code",
   "execution_count": 3,
   "metadata": {},
   "outputs": [],
   "source": [
    "def lesk(word, sentence):\n",
    "    if len(wn.synsets(word)) == 0:\n",
    "        return \"NONE\"\n",
    "    best_sense = wn.synsets(word)[0]\n",
    "    max_overlap = 0\n",
    "    context = get_context(sentence)\n",
    "    sifnature = None\n",
    "    overlap = None\n",
    "    for sense in wn.synsets(word):\n",
    "        signature = get_gloss_examples(sense)\n",
    "        overlap = get_overlap(context, signature)\n",
    "        if len(overlap) > max_overlap:\n",
    "            max_overlap = len(overlap)\n",
    "            best_sense = sense\n",
    "    return best_sense"
   ]
  },
  {
   "cell_type": "code",
   "execution_count": 4,
   "metadata": {},
   "outputs": [
    {
     "name": "stdout",
     "output_type": "stream",
     "text": [
      "a container for holding liquids while drinking\n"
     ]
    },
    {
     "data": {
      "text/plain": [
       "Synset('glass.n.02')"
      ]
     },
     "execution_count": 4,
     "metadata": {},
     "output_type": "execute_result"
    }
   ],
   "source": [
    "sentence = \"i drink wine using a glass\"\n",
    "print(wn.synsets('glass')[1].definition())\n",
    "lesk('glass', sentence)"
   ]
  },
  {
   "cell_type": "markdown",
   "metadata": {},
   "source": [
    "### Funzioni utili per l'esecuzione dell'algoritmo di Lesk su 50 frasi scelte randomicamente da SemCor"
   ]
  },
  {
   "cell_type": "code",
   "execution_count": 54,
   "metadata": {},
   "outputs": [],
   "source": [
    "def get_rand_elems(array):\n",
    "    rands = random.sample(range(0, len(array)), 50)\n",
    "    return [array[i] for i in rands]\n",
    "\n",
    "def get_rand_elems_2(sentences):\n",
    "    phrases = []\n",
    "    extracted = []\n",
    "    while len(phrases) < 50:\n",
    "        rand = random.randint(0, len(sentences))\n",
    "        if '\\'NN\\'' in str(sentences[rand]) and rand not in extracted and '.n.' in str(sentences[rand]):\n",
    "            phrases.append(sentences[rand])\n",
    "            extracted.append(rand)\n",
    "    return phrases, extracted\n",
    "\n",
    "def get_nouns(list_of_sentences):\n",
    "    nouns = []\n",
    "    ps = PorterStemmer()\n",
    "    wnl = WordNetLemmatizer()\n",
    "    for sentence in list_of_sentences:\n",
    "        for word in sentence:\n",
    "            if word.pos()[0][1] == 'NN' and '.n.' in str(word):\n",
    "                nouns.append([word.leaves(), word.label()])\n",
    "            #prendo solo parole singole per evitare i noun phrase e che inizino con la minuscola così evito i nomi propri.\n",
    "                #nouns.append([str(word).split('NN ')[1], str(word).split('\\'')[1]])\n",
    "                break\n",
    "    return nouns    \n",
    "     \n",
    "def list_to_string(s):\n",
    "    str1 = ''\n",
    "    for ele in s:\n",
    "        str1 += ele + ' '  \n",
    "    return str1"
   ]
  },
  {
   "cell_type": "markdown",
   "metadata": {},
   "source": [
    "### Esecuzione"
   ]
  },
  {
   "cell_type": "markdown",
   "metadata": {},
   "source": [
    "Frasi annotatate con synset su SemCor"
   ]
  },
  {
   "cell_type": "code",
   "execution_count": 6,
   "metadata": {},
   "outputs": [],
   "source": [
    "sentences = semcor.sents()\n",
    "tagged_sentences = semcor.tagged_sents(tag=\"both\")"
   ]
  },
  {
   "cell_type": "markdown",
   "metadata": {},
   "source": [
    "Selezione randomica di 50 frasi contenenti almeno un sostantivo e indici delle frasi estratte"
   ]
  },
  {
   "cell_type": "code",
   "execution_count": null,
   "metadata": {},
   "outputs": [],
   "source": [
    "#random_sentences, rand = get_rand_elems_2(tagged_sentences)"
   ]
  },
  {
   "cell_type": "markdown",
   "metadata": {},
   "source": [
    "estrazione di sostantivi con relativi synset dalle frasi estratte"
   ]
  },
  {
   "cell_type": "code",
   "execution_count": null,
   "metadata": {},
   "outputs": [],
   "source": [
    "#nouns = get_nouns(random_sentences)"
   ]
  },
  {
   "cell_type": "markdown",
   "metadata": {},
   "source": [
    "esecuzione dell'algoritmo di Lesk su ogni sostantivo estratto"
   ]
  },
  {
   "cell_type": "code",
   "execution_count": 72,
   "metadata": {},
   "outputs": [],
   "source": [
    "def execution(tagged_sentences, iterations):\n",
    "    current_ex = 0\n",
    "    accuracies = []\n",
    "    while current_ex < iterations:\n",
    "        random_sentences, rand = get_rand_elems_2(tagged_sentences)\n",
    "        nouns = get_nouns(random_sentences)\n",
    "        correct = 0\n",
    "        for i in range(len(nouns)):\n",
    "            actual_lesk = lesk(nouns[i][0][0], list_to_string(sentences[rand[i]]))\n",
    "            #print(f\"WORD: {nouns[i][0][0]} --> in SENTENCE: {list_to_string(sentences[rand[i]])}\") \n",
    "            #print(f\"LESK SYNSET {actual_lesk} REAL SYNSET: {nouns[i][1]}\")\n",
    "            if \"NONE\" not in str(actual_lesk):\n",
    "                if str(actual_lesk).split('\\'')[1] in str(nouns[i][1]):\n",
    "                    correct += 1\n",
    "                    #print('Correct\\n\\n\\n')\n",
    "                else:\n",
    "                    pass\n",
    "                    #print('Wrong\\n\\n\\n')\n",
    "        #print(f\"CORRECT ANSWERS: {correct}\")\n",
    "        #print(f\"TOTAL ANSWERS: {len(nouns)}\")\n",
    "        #print(f\"ACCURACY: {correct/len(nouns)}\\n\\n\\n\")\n",
    "        accuracies.append(correct/len(nouns))\n",
    "        current_ex += 1\n",
    "    return accuracies"
   ]
  },
  {
   "cell_type": "markdown",
   "metadata": {},
   "source": [
    "### Andamento dell'accuracy su 10 e 100 esecuzioni"
   ]
  },
  {
   "cell_type": "code",
   "execution_count": 75,
   "metadata": {},
   "outputs": [
    {
     "data": {
      "image/png": "[encoded data removed]",
      "text/plain": [
       "<Figure size 432x288 with 1 Axes>"
      ]
     },
     "metadata": {
      "needs_background": "light"
     },
     "output_type": "display_data"
    },
    {
     "name": "stdout",
     "output_type": "stream",
     "text": [
      "AVG ACCURACY: 0.48600000000000004\n",
      "MAX ACCURACY: 0.6\n",
      "MIN ACCURACY: 0.36\n",
      "[0.5, 0.6, 0.5, 0.48, 0.44, 0.56, 0.36, 0.5, 0.42, 0.5]\n"
     ]
    }
   ],
   "source": [
    "accuracies_10 = execution(tagged_sentences, 10)\n",
    "plt.plot(accuracies_10)\n",
    "plt.show()\n",
    "print(f\"AVG ACCURACY: {sum(accuracies_10)/len(accuracies_10)}\")\n",
    "print(f\"MAX ACCURACY: {max(accuracies_10)}\")\n",
    "print(f\"MIN ACCURACY: {min(accuracies_10)}\")\n",
    "print(accuracies_10)"
   ]
  },
  {
   "cell_type": "code",
   "execution_count": 74,
   "metadata": {},
   "outputs": [
    {
     "data": {
      "image/png": "[encoded data removed]",
      "text/plain": [
       "<Figure size 432x288 with 1 Axes>"
      ]
     },
     "metadata": {
      "needs_background": "light"
     },
     "output_type": "display_data"
    },
    {
     "name": "stdout",
     "output_type": "stream",
     "text": [
      "AVG ACCURACY: 0.48685374149659866\n",
      "MAX ACCURACY: 0.7142857142857143\n",
      "MIN ACCURACY: 0.3\n",
      "[0.44, 0.46, 0.48, 0.36, 0.4, 0.48, 0.5918367346938775, 0.5102040816326531, 0.5, 0.54, 0.52, 0.5, 0.5, 0.52, 0.44, 0.5, 0.42, 0.4489795918367347, 0.56, 0.52, 0.38, 0.5208333333333334, 0.46, 0.52, 0.4489795918367347, 0.5, 0.52, 0.4489795918367347, 0.52, 0.46, 0.44, 0.42, 0.4, 0.42, 0.48, 0.44, 0.46, 0.5, 0.54, 0.48, 0.42, 0.48, 0.38, 0.46938775510204084, 0.64, 0.56, 0.54, 0.48, 0.52, 0.54, 0.56, 0.62, 0.46938775510204084, 0.5102040816326531, 0.64, 0.48, 0.46, 0.6, 0.58, 0.54, 0.5, 0.56, 0.48, 0.5, 0.5510204081632653, 0.48, 0.46938775510204084, 0.44, 0.48, 0.38, 0.42857142857142855, 0.62, 0.4, 0.44, 0.42, 0.38, 0.48, 0.4, 0.5625, 0.56, 0.5, 0.42, 0.52, 0.5714285714285714, 0.46, 0.3, 0.5, 0.46, 0.58, 0.46938775510204084, 0.46, 0.46, 0.58, 0.34, 0.36, 0.7142857142857143, 0.46, 0.54, 0.52, 0.4]\n"
     ]
    }
   ],
   "source": [
    "accuracies_100 = execution(tagged_sentences, 100)\n",
    "plt.plot(accuracies_100)\n",
    "plt.show()\n",
    "print(f\"AVG ACCURACY: {sum(accuracies_100)/len(accuracies_100)}\")\n",
    "print(f\"MAX ACCURACY: {max(accuracies_100)}\")\n",
    "print(f\"MIN ACCURACY: {min(accuracies_100)}\")\n",
    "print(accuracies_100)"
   ]
  }
 ],
 "metadata": {
  "kernelspec": {
   "display_name": "Python 3.8.12 ('spacy')",
   "language": "python",
   "name": "python3"
  },
  "language_info": {
   "codemirror_mode": {
    "name": "ipython",
    "version": 3
   },
   "file_extension": ".py",
   "mimetype": "text/x-python",
   "name": "python",
   "nbconvert_exporter": "python",
   "pygments_lexer": "ipython3",
   "version": "3.8.12"
  },
  "orig_nbformat": 4,
  "vscode": {
   "interpreter": {
    "hash": "3525effbb77994477fa12acef781f772c9be5a5a62ddcd46b88c81c6046781ff"
   }
  }
 },
 "nbformat": 4,
 "nbformat_minor": 2
}
