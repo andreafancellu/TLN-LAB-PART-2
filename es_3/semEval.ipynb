{
 "cells": [
  {
   "cell_type": "code",
   "execution_count": null,
   "metadata": {},
   "outputs": [],
   "source": [
    "from scipy import stats\n",
    "from pprint import pprint\n",
    "import numpy as np\n",
    "from scipy import spatial\n",
    "from operator import mul"
   ]
  },
  {
   "cell_type": "code",
   "execution_count": null,
   "metadata": {},
   "outputs": [],
   "source": [
    "PATH = r'/home/fazza/Documents/TLN-LAB-PART-2/resources/annotations_fabio_andrea.txt'\n",
    "PATH_NASARI = r'/home/fazza/Documents/TLN-LAB-PART-2/resources/mini_NASARI.tsv'\n",
    "PATH_SEM = r'/home/fazza/Documents/TLN-LAB-PART-2/resources/SemEval17_IT_senses2synsets.txt' "
   ]
  },
  {
   "cell_type": "code",
   "execution_count": null,
   "metadata": {},
   "outputs": [],
   "source": [
    "def get_valutation_from_txt(path):\n",
    "    andrea_list = []\n",
    "    fabio_list = []\n",
    "    mean_list = []\n",
    "    with open(path, 'r') as file:\n",
    "        for line in file.readlines():\n",
    "            andrea_list.append(float(line.split('    ')[2]))\n",
    "            fabio_list.append(float(line.split('    ')[3]))\n",
    "            mean_list.append(float(line.split('    ')[4]))\n",
    "\n",
    "    return andrea_list, fabio_list, mean_list\n",
    "\n",
    "def get_words_from_txt(path):\n",
    "    list_of_words = []\n",
    "    with open(path, 'r') as file:\n",
    "        for line in file.readlines():\n",
    "            list_of_words.append((line.split('    ')[0],line.split('    ')[1]))\n",
    "    return list_of_words"
   ]
  },
  {
   "cell_type": "code",
   "execution_count": null,
   "metadata": {},
   "outputs": [],
   "source": [
    "\n",
    "words = get_words_from_txt(PATH)\n",
    "'''\n",
    "print(words)\n",
    "#print(f\"Lista di Andrea: {a}\")\n",
    "#print(f\"Lista di Fabio: {f}\")\n",
    "\n",
    "print(\"\\nSPEARMAN'S CORRELATION COEFFICIENT\\n\")\n",
    "print(f\"{stats.spearmanr(a, f).correlation}\")\n",
    "\n",
    "print(\"\\nPEARSON'S CORRELATION COEFFICIENT\\n\")\n",
    "print(f\"{stats.pearsonr(a, f)}\")'''"
   ]
  },
  {
   "cell_type": "markdown",
   "metadata": {},
   "source": [
    "Recupero vettori di NASARI"
   ]
  },
  {
   "cell_type": "code",
   "execution_count": null,
   "metadata": {},
   "outputs": [],
   "source": [
    "def nasari_to_dict(path):\n",
    "    nasari_dict = {}\n",
    "    with open(path, 'r', encoding=\"utf8\") as file:\n",
    "        for line in file.readlines():\n",
    "            splitted_line = line.split('\\t')\n",
    "            nasari_dict[splitted_line[0].split('__')[0]] = splitted_line[1:]\n",
    "            \n",
    "    return nasari_dict"
   ]
  },
  {
   "cell_type": "markdown",
   "metadata": {},
   "source": [
    "Recupero synset da SemEval17_IT_senses2synsets.txt"
   ]
  },
  {
   "cell_type": "code",
   "execution_count": null,
   "metadata": {},
   "outputs": [],
   "source": [
    "def get_babel_syns(word, path):\n",
    "    babel_list = []\n",
    "    flag = False\n",
    "    with open(path, 'r', encoding=\"utf8\") as file: \n",
    "        for line in file.readlines():\n",
    "            if word in line:\n",
    "                flag = True\n",
    "            elif flag and line[0] != '#':\n",
    "                babel_list.append(line)\n",
    "            else:\n",
    "                flag = False\n",
    "    return babel_list                "
   ]
  },
  {
   "cell_type": "markdown",
   "metadata": {},
   "source": [
    "Calcolo similarità"
   ]
  },
  {
   "cell_type": "code",
   "execution_count": null,
   "metadata": {},
   "outputs": [],
   "source": [
    "def cos_sim(vec1, vec2):\n",
    "    return 1 - spatial.distance.cosine(vec1, vec2)"
   ]
  },
  {
   "cell_type": "markdown",
   "metadata": {},
   "source": [
    "Calcolo il massimo tra i valori di similarità"
   ]
  },
  {
   "cell_type": "code",
   "execution_count": 84,
   "metadata": {},
   "outputs": [],
   "source": [
    "def get_nasari_valutation(syn1, syn2, nasari_dict):\n",
    "    max = 0.0\n",
    "    max_elem = (None, None)\n",
    "    for s1 in syn1:\n",
    "        for s2 in syn2:\n",
    "            if s1.strip('\\n') in nasari_dict.keys() and s2.strip('\\n') in nasari_dict.keys():\n",
    "                test1 = list(map(float, nasari_dict[s1.strip('\\n')]))\n",
    "                test2 = list(map(float, nasari_dict[s2.strip('\\n')]))\n",
    "                sim = cos_sim(test1, test2)\n",
    "                if sim > max:\n",
    "                    max = sim\n",
    "                    max_elem = (s1.strip('\\n'), s2.strip('\\n'))\n",
    "    return max, max_elem\n",
    "                "
   ]
  },
  {
   "cell_type": "code",
   "execution_count": null,
   "metadata": {},
   "outputs": [],
   "source": [
    "nasari_dict = nasari_to_dict(PATH_NASARI)"
   ]
  },
  {
   "cell_type": "markdown",
   "metadata": {},
   "source": [
    "Esecuzione"
   ]
  },
  {
   "cell_type": "code",
   "execution_count": 90,
   "metadata": {},
   "outputs": [
    {
     "name": "stdout",
     "output_type": "stream",
     "text": [
      "50\n",
      "[('bn:00023796n', 'bn:01317296n'), ('bn:00069924n', 'bn:00074064n'), ('bn:00013447n', 'bn:01387235n'), ('bn:03237376n', 'bn:03476756n'), ('bn:02580408n', 'bn:00013173n'), ('bn:00010217n', 'bn:00031976n'), ('bn:00028682n', 'bn:00010152n'), ('bn:00005869n', 'bn:00051510n'), ('bn:00017031n', 'bn:00064468n'), ('bn:00021410n', 'bn:00069626n'), ('bn:00054739n', 'bn:02730666n'), ('bn:00002177n', 'bn:00045719n'), ('bn:00057430n', 'bn:00012682n'), ('bn:03520751n', 'bn:02131227n'), ('bn:00033657n', 'bn:00007752n'), ('bn:00013722n', 'bn:00044044n'), ('bn:00018734n', 'bn:00001697n'), ('bn:00014988n', 'bn:00059980n'), ('bn:14407671n', 'bn:00063293n'), ('bn:00081285n', 'bn:00068220n'), ('bn:00015923n', 'bn:00036583n'), ('bn:01363738n', 'bn:00081636n'), ('bn:00052888n', 'bn:00073964n'), ('bn:00068572n', 'bn:00006747n'), ('bn:00054021n', 'bn:00078920n'), ('bn:00081176n', 'bn:03777357n'), ('bn:00028863n', 'bn:00042379n'), ('bn:03252503n', 'bn:00060967n'), ('bn:00059285n', 'bn:00008280n'), ('bn:01361585n', 'bn:01361585n'), ('bn:01245565n', 'bn:00032089n'), ('bn:00076831n', 'bn:02862916n'), ('bn:00081921n', 'bn:00062965n'), ('bn:00074458n', 'bn:00066032n'), ('bn:00044258n', 'bn:00044258n'), (None, None), ('bn:00001939n', 'bn:00004401n'), ('bn:00002936n', 'bn:00074123n'), ('bn:00048488n', 'bn:00048488n'), ('bn:00003840n', 'bn:00049570n'), ('bn:00022863n', 'bn:00024712n'), ('bn:00069126n', 'bn:00008782n'), (None, None), ('bn:00896958n', 'bn:00056300n'), ('bn:00011961n', 'bn:00071602n'), ('bn:03737094n', 'bn:02670707n'), ('bn:00024905n', 'bn:00024979n'), ('bn:00064869n', 'bn:00018828n'), ('bn:00024948n', 'bn:03599114n'), ('bn:00036821n', 'bn:00053459n')]\n",
      "\n",
      "SPEARMAN'S CORRELATION COEFFICIENT\n",
      "\n",
      "0.7598361520760495\n",
      "\n",
      "PEARSON'S CORRELATION COEFFICIENT\n",
      "\n",
      "(0.6835544611719425, 4.4822719312347896e-08)\n"
     ]
    }
   ],
   "source": [
    "def mult(res):\n",
    "    return res*4\n",
    "\n",
    "result = []\n",
    "result_elem = []\n",
    "for tuple in words:\n",
    "    syn_1 = get_babel_syns(tuple[0], PATH_SEM)\n",
    "    syn_2 = get_babel_syns(tuple[1], PATH_SEM)\n",
    "    \n",
    "    sim_max, elements = get_nasari_valutation(syn_1, syn_2, nasari_dict)\n",
    "    \n",
    "    result.append(sim_max)\n",
    "    result_elem.append(elements)\n",
    "\n",
    "andrea, fabio, mean = get_valutation_from_txt(PATH)\n",
    "\n",
    "print(\"\\nSPEARMAN'S CORRELATION COEFFICIENT\\n\")\n",
    "print(f\"{stats.spearmanr(result, mean).correlation}\")\n",
    "\n",
    "print(\"\\nPEARSON'S CORRELATION COEFFICIENT\\n\")\n",
    "print(f\"{stats.pearsonr(result, mean)}\")\n"
   ]
  },
  {
   "cell_type": "markdown",
   "metadata": {},
   "source": []
  }
 ],
 "metadata": {
  "kernelspec": {
   "display_name": "Python 3.8.12 ('spacy')",
   "language": "python",
   "name": "python3"
  },
  "language_info": {
   "codemirror_mode": {
    "name": "ipython",
    "version": 3
   },
   "file_extension": ".py",
   "mimetype": "text/x-python",
   "name": "python",
   "nbconvert_exporter": "python",
   "pygments_lexer": "ipython3",
   "version": "3.8.12"
  },
  "orig_nbformat": 4,
  "vscode": {
   "interpreter": {
    "hash": "3525effbb77994477fa12acef781f772c9be5a5a62ddcd46b88c81c6046781ff"
   }
  }
 },
 "nbformat": 4,
 "nbformat_minor": 2
}
