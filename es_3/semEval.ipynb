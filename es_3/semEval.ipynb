{
 "cells": [
  {
   "cell_type": "code",
   "execution_count": null,
   "metadata": {},
   "outputs": [],
   "source": [
    "from scipy import stats"
   ]
  },
  {
   "cell_type": "code",
   "execution_count": 17,
   "metadata": {},
   "outputs": [],
   "source": [
    "def get_valutation_from_txt(path):\n",
    "    andrea_list = []\n",
    "    fabio_list = []\n",
    "    with open(path, 'r') as file:\n",
    "        for line in file.readlines():\n",
    "            andrea_list.append(float(line.split('    ')[2]))\n",
    "            fabio_list.append(float(line.split('    ')[3]))\n",
    "\n",
    "    return andrea_list, fabio_list"
   ]
  },
  {
   "cell_type": "code",
   "execution_count": 18,
   "metadata": {},
   "outputs": [
    {
     "name": "stdout",
     "output_type": "stream",
     "text": [
      "\n",
      "SPEARMAN'S CORRELATION COEFFICIENT\n",
      "\n",
      "0.8969380835014799\n",
      "\n",
      "PEARSON'S CORRELATION COEFFICIENT\n",
      "\n",
      "(0.9316329502979276, 9.705442539988869e-23)\n"
     ]
    }
   ],
   "source": [
    "PATH = '/home/fazza/Documents/TLN-LAB-PART-2/resources/annotations_fabio_andrea.txt'\n",
    "a,f = get_valutation_from_txt(PATH)\n",
    "\n",
    "#print(f\"Lista di Andrea: {a}\")\n",
    "#print(f\"Lista di Fabio: {f}\")\n",
    "\n",
    "print(\"\\nSPEARMAN'S CORRELATION COEFFICIENT\\n\")\n",
    "print(f\"{stats.spearmanr(a, f).correlation}\")\n",
    "\n",
    "print(\"\\nPEARSON'S CORRELATION COEFFICIENT\\n\")\n",
    "print(f\"{stats.pearsonr(a, f)}\")"
   ]
  },
  {
   "cell_type": "markdown",
   "metadata": {},
   "source": []
  }
 ],
 "metadata": {
  "kernelspec": {
   "display_name": "Python 3.8.12 ('spacy')",
   "language": "python",
   "name": "python3"
  },
  "language_info": {
   "codemirror_mode": {
    "name": "ipython",
    "version": 3
   },
   "file_extension": ".py",
   "mimetype": "text/x-python",
   "name": "python",
   "nbconvert_exporter": "python",
   "pygments_lexer": "ipython3",
   "version": "3.8.12"
  },
  "orig_nbformat": 4,
  "vscode": {
   "interpreter": {
    "hash": "3525effbb77994477fa12acef781f772c9be5a5a62ddcd46b88c81c6046781ff"
   }
  }
 },
 "nbformat": 4,
 "nbformat_minor": 2
}
