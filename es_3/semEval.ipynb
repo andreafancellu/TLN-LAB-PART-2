{
 "cells": [
  {
   "cell_type": "code",
   "execution_count": 128,
   "metadata": {},
   "outputs": [],
   "source": [
    "from scipy import stats\n",
    "from pprint import pprint\n",
    "import numpy as np\n",
    "from scipy import spatial\n",
    "from sklearn.metrics import cohen_kappa_score\n",
    "import requests"
   ]
  },
  {
   "cell_type": "code",
   "execution_count": 124,
   "metadata": {},
   "outputs": [],
   "source": [
    "PATH_VAL = r'/home/fazza/Documents/TLN-LAB-PART-2/resources/annotations_fabio_andrea.txt'\n",
    "PATH_SYN = r'/home/fazza/Documents/TLN-LAB-PART-2/resources/babel_synset.txt'\n",
    "PATH_NASARI = r'/home/fazza/Documents/TLN-LAB-PART-2/resources/mini_NASARI.tsv'\n",
    "PATH_SEM = r'/home/fazza/Documents/TLN-LAB-PART-2/resources/SemEval17_IT_senses2synsets.txt' \n",
    "\n",
    "KEY = '5da132f9-c606-4832-9a4f-3c2e3f739cf7'\n",
    "KEY2 = 'd4bc0872-d933-4516-b456-2063fa7d68ff'\n",
    "URL = 'https://babelnet.io/v7/getSynset?id={}&key={}&targetLang=IT&searchLang=IT'"
   ]
  },
  {
   "cell_type": "code",
   "execution_count": null,
   "metadata": {},
   "outputs": [],
   "source": [
    "def get_synsets_from_txt(path):\n",
    "    andrea_list = []\n",
    "    fabio_list = []\n",
    "    with open(path, 'r') as file:\n",
    "        for line in file.readlines():\n",
    "            andrea_list.append(line.split('    ')[2].strip('\\n'))\n",
    "            andrea_list.append(line.split('    ')[3].strip('\\n'))\n",
    "            fabio_list.append(line.split('    ')[4].strip('\\n'))\n",
    "            fabio_list.append(line.split('    ')[5].strip('\\n'))\n",
    "    \n",
    "    return andrea_list, fabio_list\n",
    "\n",
    "def get_valutation_from_txt(path):\n",
    "    andrea_list = []\n",
    "    fabio_list = []\n",
    "    mean_list = []\n",
    "    with open(path, 'r') as file:\n",
    "        for line in file.readlines():\n",
    "            andrea_list.append(float(line.split('    ')[2]))\n",
    "            fabio_list.append(float(line.split('    ')[3]))\n",
    "            mean_list.append(float(line.split('    ')[4]))\n",
    "\n",
    "    return andrea_list, fabio_list, mean_list\n",
    "\n",
    "def get_words_from_txt(path):\n",
    "    list_of_words = []\n",
    "    with open(path, 'r') as file:\n",
    "        for line in file.readlines():\n",
    "            list_of_words.append((line.split('    ')[0],line.split('    ')[1]))\n",
    "    return list_of_words"
   ]
  },
  {
   "cell_type": "markdown",
   "metadata": {},
   "source": [
    "Recupero vettori di NASARI"
   ]
  },
  {
   "cell_type": "code",
   "execution_count": null,
   "metadata": {},
   "outputs": [],
   "source": [
    "def nasari_to_dict(path):\n",
    "    nasari_dict = {}\n",
    "    with open(path, 'r', encoding=\"utf8\") as file:\n",
    "        for line in file.readlines():\n",
    "            splitted_line = line.split('\\t')\n",
    "            nasari_dict[splitted_line[0].split('__')[0]] = splitted_line[1:]\n",
    "            \n",
    "    return nasari_dict"
   ]
  },
  {
   "cell_type": "code",
   "execution_count": null,
   "metadata": {},
   "outputs": [],
   "source": [
    "\n",
    "words = get_words_from_txt(PATH_VAL)\n",
    "nasari_dict = nasari_to_dict(PATH_NASARI)"
   ]
  },
  {
   "cell_type": "markdown",
   "metadata": {},
   "source": [
    "Recupero synset da SemEval17_IT_senses2synsets.txt"
   ]
  },
  {
   "cell_type": "code",
   "execution_count": null,
   "metadata": {},
   "outputs": [],
   "source": [
    "def get_babel_syns(word, path):\n",
    "    babel_list = []\n",
    "    flag = False\n",
    "    with open(path, 'r', encoding=\"utf8\") as file: \n",
    "        for line in file.readlines():\n",
    "            if word in line:\n",
    "                flag = True\n",
    "            elif flag and line[0] != '#':\n",
    "                babel_list.append(line)\n",
    "            else:\n",
    "                flag = False\n",
    "    return babel_list                "
   ]
  },
  {
   "cell_type": "markdown",
   "metadata": {},
   "source": [
    "Calcolo similarità"
   ]
  },
  {
   "cell_type": "code",
   "execution_count": null,
   "metadata": {},
   "outputs": [],
   "source": [
    "def cos_sim(vec1, vec2):\n",
    "    return 1 - spatial.distance.cosine(vec1, vec2)"
   ]
  },
  {
   "cell_type": "markdown",
   "metadata": {},
   "source": [
    "Calcolo il massimo tra i valori di similarità"
   ]
  },
  {
   "cell_type": "code",
   "execution_count": null,
   "metadata": {},
   "outputs": [],
   "source": [
    "def get_nasari_valutation(syn1, syn2, nasari_dict):\n",
    "    max = 0.0\n",
    "    max_elem = (None, None)\n",
    "    for s1 in syn1:\n",
    "        for s2 in syn2:\n",
    "            if s1.strip('\\n') in nasari_dict.keys() and s2.strip('\\n') in nasari_dict.keys():\n",
    "                test1 = list(map(float, nasari_dict[s1.strip('\\n')]))\n",
    "                test2 = list(map(float, nasari_dict[s2.strip('\\n')]))\n",
    "                sim = cos_sim(test1, test2)\n",
    "                if sim > max:\n",
    "                    max = sim\n",
    "                    max_elem = (s1.strip('\\n'), s2.strip('\\n'))\n",
    "    return max, max_elem\n",
    "                "
   ]
  },
  {
   "cell_type": "code",
   "execution_count": null,
   "metadata": {},
   "outputs": [],
   "source": [
    "def get_sense_valutation(user_syn, system_syn):\n",
    "    i = 0\n",
    "    unit_score = 0\n",
    "    couple_score = 0\n",
    "    for syn in system_syn:\n",
    "        if syn[0] in user_syn:\n",
    "            unit_score += 1\n",
    "        if syn[1] in user_syn:\n",
    "            unit_score += 1\n",
    "            \n",
    "    for syn in system_syn:\n",
    "        if syn[0] == user_syn[i] and syn[1] == user_syn[i+1]:\n",
    "            couple_score += 1 \n",
    "        i += 2\n",
    "    return f\"elementi singoli: {unit_score/100}, coppie: {couple_score/50}\"\n"
   ]
  },
  {
   "cell_type": "code",
   "execution_count": 132,
   "metadata": {},
   "outputs": [],
   "source": [
    "def get_terms_by_babel_id(babel_id):\n",
    "    res = []\n",
    "    x = requests.get(URL.format(babel_id,KEY2))\n",
    "    if x.status_code != 400:\n",
    "        s = x.json()['senses']\n",
    "        for sense in s:\n",
    "            res.append(sense['properties']['fullLemma'])   \n",
    "    return res"
   ]
  },
  {
   "cell_type": "markdown",
   "metadata": {},
   "source": [
    "Esecuzione"
   ]
  },
  {
   "cell_type": "code",
   "execution_count": 133,
   "metadata": {},
   "outputs": [
    {
     "name": "stdout",
     "output_type": "stream",
     "text": [
      "---------------------------------------------------------------------------------------\n",
      "\n",
      "Correlazione di Spearman tra annotatori: 0.8969380835014799\n",
      "\n",
      "\n",
      "Correlazione di Pearson tra annotatori: (0.9316329502979276, 9.705442539988869e-23)\n",
      "\n",
      "---------------------------------------------------------------------------------------\n",
      "('cricket', 'sostenitore'), ('bn:00023796n', 'bn:01317296n'), ['grillo', 'cricket', 'gryllidae'], ['sostegni_(araldica)', 'sostegni', 'Supporti', 'Sostegno_(araldica)', 'supporti_(araldica)', 'sostenitore', 'sostenitori']\n",
      "\n",
      "('scultura', 'statua'), ('bn:00069924n', 'bn:00074064n'), ['scultura', 'scultore', 'scultori', 'scultrice', 'sculture', 'scultoree', \"scultura_all'aperto\"], ['statua', 'statuaria', 'statue', 'gruppo_scultoreo']\n",
      "\n",
      "('browser', 'Mozilla Firefox'), ('bn:00013447n', 'bn:01387235n'), ['browser', 'browser_web', 'navigatore', 'web_browser', 'Navigatore_(informatica)', 'web_browsing', 'browser_internet', 'client_web'], ['Mozilla_Firefox', 'Firefox', 'Electrolysis', 'Minefield', 'Mozilla_Firebird', 'Mozilla_Firefox_1', 'Mozilla_Firefox_3.2', 'Mozilla_Firefox_5', 'Storia_di_Mozilla_Firefox', 'Versioni_di_Mozilla_Firefox']\n",
      "\n",
      "('Fox Terrier', 'Canon'), ('bn:03237376n', 'bn:03476756n'), ['Fox_Terrier', 'Fox_Terrier_a_pelo_liscio', 'fox_terrier_a_pelo_ruvido', 'fox_terrier'], ['Canon_(manga)', 'Canon']\n",
      "\n",
      "('HSBC', 'Gran Bretagna'), ('bn:02580408n', 'bn:00013173n'), ['HSBC', 'HSBC_Holdings', 'Hong_Kong_and_Shanghai_Banking_Corporation', 'Hsbc'], ['GB', 'Gran_Bretagna', 'Inghilterra', 'Regno_Unito', 'Regno_Unito_di_Gran_Bretagna_e_Irlanda_del_Nord', 'GBR', 'UK', '🇬🇧', 'britannica', 'cultura_del_Regno_Unito', 'Gran_Bretagna_e_Irlanda_del_Nord', 'Musei_del_Regno_Unito', 'Musei_della_Gran_Bretagna', 'Regno_unito', 'Regno_Unito_di_Gran_Bretagna_ed_Irlanda_del_Nord', 'Sport_nel_Regno_Unito', 'U.K.', 'United_Kingdom', 'United_Kingdom_of_Great_Britain_and_Northern_Ireland', 'gran_bretagna', 'regno_unito', 'regno_unito_di_gran_bretagna_e_irlanda_del_nord', 'u.k.']\n",
      "\n",
      "('Bibbia', 'Vangelo'), ('bn:00010217n', 'bn:00031976n'), ['Bibbia', 'bibbia', 'sacra_scrittura', 'Sacra_Bibbia', 'Abbreviazioni_bibliche', 'Bibbia_cristiana', 'Bibbie', 'Biblia', 'biblico', 'bibbia_cristiana', 'bibbie', 'good_book', 'libro_sacro', 'sacra_bibbia', 'scrittura', 'scritturale', 'scritture', 'scritture_cristiane', 'testi_religiosi', 'testi_sacri', 'testo_religioso', 'testo_sacro'], ['evangelo', 'vangelo', 'Vangelo', 'Nascita_dei_vangeli', 'Storicità_dei_Vangeli', 'Vangeli', 'Vangeli_cristiani', 'Composizione_dei_vangeli', 'Evangelo', 'Nascita_dei_Vangeli', 'quattro_vangeli', 'storicità_dei_vangeli', 'vangeli_canonici', 'vangelo_canonico', 'evangel', 'vangeli']\n",
      "\n",
      "('vestito', 'danza'), ('bn:00028682n', 'bn:00010152n'), ['abito', 'toilette', 'veste', 'vestito', 'abito_da_donna', 'Abito_femminile', 'Abito_lungo', 'abiti'], ['fidanzamento', 'promessa_di_matrimonio', 'fidanzata', 'promessa', 'promessa_sposa', 'Fidanzamento', 'Fidanzata', 'Fidanzato', 'fidanzato', 'impegno']\n",
      "\n",
      "('array', 'lista'), ('bn:00005869n', 'bn:00051510n'), ['array', 'vettore'], ['elenco', \"l'elaborazione_della_lista\"]\n",
      "\n",
      "('cella', 'gattabuia'), ('bn:00017031n', 'bn:00064468n'), ['cella_(prigione)', 'cella', 'carcere_cella', 'cella_di_prigione'], ['carcere', 'casa_circondariale', 'casa_di_detenzione', 'casa_di_pena', 'casa_di_reclusione', 'ergastolo', 'galera', 'gattabuia', 'penitenziario', 'prigione', 'reclusorio', 'istituto_di_pena', 'Carcere_in_Italia', 'carcere_militare', 'carceri_italiane', 'Detenuta', 'detenuto', 'istituto_penitenziario', 'penitenziari', 'Prigione_militare', 'prigionieri', 'Prigioniero', 'Stabilimento_carcerario', 'carceri', 'incarcerate', 'media_sicurezza', 'minimo_di_sicurezza', 'prigione_della_contea', 'prigioni', 'sistema_carcerario']\n",
      "\n",
      "('saggio', 'compito a casa'), ('bn:00021410n', 'bn:00069626n'), ['componimento', 'elaborato', 'relazione'], ['compiti_a_casa', 'compiti_per_casa', 'compiti_scolastici', 'compito', 'compito_a_casa', 'compito_per_casa', 'compito_scolastico', 'lavoro_scolastico', 'scolastico', 'scuola_di_assegnazione']\n",
      "\n",
      "('computer', 'macchina'), ('bn:00054739n', 'bn:02730666n'), ['PC', 'personal_computer', 'microcomputer', 'Microcomputer', 'computer', 'calcolatore_personale', 'elaboratore_personale', 'Personal_Computer', 'pc', 'personal_computing'], ['macchina']\n",
      "\n",
      "('panda', 'orso polare'), ('bn:00002177n', 'bn:00045719n'), ['Ailurus_fulgens', 'panda', 'panda_minore', 'Ailurus', 'panda_rosso', 'Ailuridae', 'Ailuridi', 'Panda_minore', 'Panda_rosso', 'ailuridi', 'Ailurinae', 'ailurus_fulgens', 'gatto_orso', 'minore_panda', 'orso_gatto', 'panda_rossi', 'red_panda'], ['orso_bianco', 'orso_polare', 'Ursus_Maritimus', 'Ursus_maritimus', 'Orso_bianco', 'Orso_polare', 'Thalarctos_maritimus', 'ice_bear', 'orsi_polari', 'thalarctos_maritimus', 'ursus_maritimus']\n",
      "\n",
      "('nevrosi', 'mente'), ('bn:00057430n', 'bn:00012682n'), ['neurosi', 'nevrosi', 'psiconeurosi', 'psiconevrosi', 'nevroticismo', 'Nevroticismo', 'neuroticismo', 'nevrotico'], ['aquila', 'cervello', 'cima', 'genio', 'ingegno', 'intelligentone', 'mente', 'mente_superiore', \"testa-d'uovo\", 'genio_(filosofia)', 'cervellone', 'brainiac']\n",
      "\n",
      "('campagna', 'scimmia'), ('bn:03520751n', 'bn:02131227n'), [\"Torre_d'Isola\", 'Torredisolani', \"torre_d'isola\"], ['Scimmia_(zodiaco_cinese)', 'Scimmia']\n",
      "\n",
      "('costante di Faraday', 'zaino'), ('bn:00033657n', 'bn:00007752n'), ['Faraday', 'M.-Faraday', 'Michael_Faraday', 'Micheal_Faraday', 'Michele_Faraday', 'costante_di_faraday', 'faraday', 'michael_faraday'], ['bisaccia', 'saccapane', 'tascapane', 'zainetto', 'zaino', 'packsack', 'zaini']\n",
      "\n",
      "('palazzo', 'grattacielo'), ('bn:00013722n', 'bn:00044044n'), ['costruzione', 'edificazione', 'edificio', 'fabbricato', 'palazzo', 'stabile', 'edificio_pubblico', 'locale', 'edifici', 'edifici_pubblici'], ['casa_a_torre', 'condominio', 'grattacielo', 'edifici_alti', 'grattacieli', 'high-rise', 'highrise', 'strade_nel_cielo', 'torre', 'torre_di_blocco', 'torre_residenziale']\n",
      "\n",
      "('elicottero', 'aereo'), ('bn:00018734n', 'bn:00001697n'), ['elicottero', 'elicotteri', 'whirlybird'], ['aereo', 'aeroplano', 'apparecchio', 'areoplano', 'velivolo', 'aeromobile', 'aerei', 'aerei_civili', 'aerei_militari', 'aereo_civile', 'Aereoplani', 'aereoplano', 'aeroplani']\n",
      "\n",
      "('Università di Cambridge', 'Università di Oxford'), ('bn:00014988n', 'bn:00059980n'), ['Università_di_Cambridge', 'Cambridge_University', 'University_of_Cambridge', \"Storia_dell'Università_di_Cambridge\", 'università_di_cambridge'], ['Università_di_Oxford', 'Oxford_University', 'University_of_Oxford', 'università_di_oxford']\n",
      "\n",
      "('bandiera', 'asta'), ('bn:14407671n', 'bn:00063293n'), ['bandiera'], ['asta', 'palo', 'stanga']\n",
      "\n",
      "('finestra', 'tetto'), ('bn:00081285n', 'bn:00068220n'), ['finestra', 'bordo_della_finestra', 'davanzale', 'davanzale_della_finestra'], ['copertura', 'tetto', 'tetti', 'copertura_(architettura)', 'Copertura_verde', 'falda_(tetto)', 'scandole']\n",
      "\n",
      "('gioco di carte', 'frisbee'), ('bn:00015923n', 'bn:00036583n'), ['gioco_di_carte', 'giochi_di_carte', 'Giochi_con_le_carte', 'Gioco_con_le_carte', 'gioco_delle_carte', 'carte'], ['frisbee', 'Frisbee', 'Freesbee', 'Freesbi', 'Freesby', 'Frisbi', 'Frisbie', 'freesbee', 'disco_volante']\n",
      "\n",
      "('malware', 'worm'), ('bn:01363738n', 'bn:00081636n'), ['malware', 'software_dannoso', 'software_malintenzionato', 'software_pericoloso', 'codice_maligno', 'grayware', 'Scumware', 'Software_dannoso', 'anti-malware', 'codice_dannoso'], ['worm', 'verme']\n",
      "\n",
      "('pianeta', 'stella'), ('bn:00052888n', 'bn:00073964n'), ['pianeta', 'Classificazione_planetaria', 'Formazione_dei_pianeti', 'pianeti', 'pianeta_maggiore', 'planemo'], ['astro', 'sole', 'stella', 'stelle']\n",
      "\n",
      "('corridore', 'atleta'), ('bn:00068572n', 'bn:00006747n'), ['corridore'], ['atleta', 'sportivo', 'personalità_legata_allo_sport', 'sportiva', 'persona_del_mondo_dello_sport', 'personalità_del_mondo_dello_sport', 'personalità_dello_sport', 'personalità_sportiva', 'persone_legate_allo_sport', 'atleti', 'sportivi', 'sportivo_pensione']\n",
      "\n",
      "('calibro', 'ombrello'), ('bn:00054021n', 'bn:00078920n'), ['misura'], ['ombrello', 'ombrellone', 'paracqua', 'parapioggia', '☂', 'Paracqua', 'parasole', 'ombrelli', 'ombrelloni']\n",
      "\n",
      "('WiFi', 'WikiLeaks'), ('bn:00081176n', 'bn:03777357n'), ['Wi-Fi', 'wireless_local_area_network', 'Wireless_Local_Area_Network', 'Connessione_senza_fili', 'Internet_senza_fili', 'Rete_wireless', 'Reti_locali_senza_fili', 'Wifi', 'WiFi', 'Wireless_LAN', 'WLAN', 'Rete_WiFi', 'rete_wireless', 'WI-FI', 'Wi-fi', 'wireless_LAN', 'Wireless_local_area_network', 'fedeltà_senza_fili', 'wifi', 'wlan'], ['WikiLeaks', 'Cablegate', 'Pubblicazione_dei_documenti_diplomatici_statunitensi', 'Wikileaks']\n",
      "\n",
      "('siccità', 'acqua'), ('bn:00028863n', 'bn:00042379n'), ['arsura', 'secco', 'siccità'], ['acqua', 'acqua_leggera', 'monossido_di_diidrogeno', 'monossido_di_idrogeno', 'ossidano', 'ossido_di_idrogeno', 'acquatiche', 'acquoso', 'Monossido_di_idrogeno', 'Ossidano', 'Ossido_di_idrogeno', 'R-718', 'acqua_allo_stato_liquido', 'acqua_liquida', 'h2o', 'H₂O']\n",
      "\n",
      "('aeroporto', 'pezzo'), ('bn:03252503n', 'bn:00060967n'), ['aeroporto'], ['appezzamento', 'lotto', 'orticello', 'terreno', 'zolla', 'appezzamento_di_terreno']\n",
      "\n",
      "('orchestra', 'banda'), ('bn:00059285n', 'bn:00008280n'), ['orchestra', 'orchestra_filarmonica', 'orchestra_sinfonica', 'orchestre', 'musica_orchestrale', 'orchestra_da_camera', 'chamber_orchestra', 'lavoro_orchestrale', 'orchestrale', 'orchestre_sinfoniche', 'symphony_orchestra'], ['banda', 'musica', 'complesso', 'gruppo_musicale', 'artista_solista', 'band', 'band_bar', 'ensemble_musicale', 'ensemble_strumentale', 'gruppi_rock', 'gruppo', 'gruppo_di_musica', \"musica_d'insieme\", 'progetto_solista']\n",
      "\n",
      "('mojito', 'mohito'), ('bn:01361585n', 'bn:01361585n'), ['mojito', 'Mojito', 'Mohito'], ['mojito', 'Mojito', 'Mohito']\n",
      "\n",
      "('programma', 'esame'), ('bn:01245565n', 'bn:00032089n'), ['programma'], ['compito_in_classe', 'esame', 'prova', 'test', 'verifica', 'Compito_in_classe', 'esami', 'prova_attitudinale', 'test_delle_prestazioni']\n",
      "\n",
      "('teorema', 'teoria'), ('bn:00076831n', 'bn:02862916n'), ['teorema', 'teorema_matematico', 'teoremi'], ['teoria']\n",
      "\n",
      "('yo-yo', 'giocattolo'), ('bn:00081921n', 'bn:00062965n'), ['yo-yo', 'Yo-yo', 'yo_yo', 'Io-io', 'Iò-iò', 'Jo-jo', 'Yoyo', 'iò-iò', 'yoyo'], ['balocco', 'gingillo', 'giocattolo', 'gioco', 'ninnolo', 'trastullo', 'giocattoli', 'toyline']\n",
      "\n",
      "('tormenta', 'pioggia'), ('bn:00074458n', 'bn:00066032n'), ['bufera', 'buriana', 'burrasca', 'fortunale', 'procella', 'tempesta', 'temporale', 'danno_da_tempesta', 'danno_prodotto_dalla_tempesta', 'tormenta', 'Tempeste', 'tempeste', 'tempeste_marine', 'tempesta_di_vento', 'violenta_tempesta'], ['acqua', 'pioggia', 'acqua_piovana', 'acque_piovane', 'altezza_pluviometrica', 'Millimetro_di_pioggia', '☔', 'piogge', 'piovosità', 'precipitazioni', 'tempesta_di_pioggia', 'temporale']\n",
      "\n",
      "('storico', 'storiografo'), ('bn:00044258n', 'bn:00044258n'), ['storico', 'storiografo', 'storica', 'storiografa'], ['storico', 'storiografo', 'storica', 'storiografa']\n",
      "\n",
      "('Siemens', 'treno elettrico'), (None, None), [], []\n",
      "\n",
      "('secolo', 'anno'), ('bn:00001939n', 'bn:00004401n'), ['anno', 'eternità', 'molto_tempo', 'secolo', 'età', 'anni', 'anno_gregoriano', 'ma'], ['anno', 'anno_gregoriano', 'anomalistico_anno', 'ma']\n",
      "\n",
      "('lega', 'acciaio'), ('bn:00002936n', 'bn:00074123n'), ['lega', 'lega_(metallurgia)', 'lega_metallica', 'leghe_metalliche', 'Lega_(chimica)', 'leghe', 'metallicità', 'popolazione_iii_stelle', 'popolazione_stellare', 'popolazioni_stellari', 'povere_di_metalli', 'ricco_di_metalli'], ['acciaio', 'acciaro', \"industria_dell'acciaio\", 'acciai', 'acciai_dolci', 'acciaio_al_silicio', 'acciaio_dolce', 'acciaio_magnetico', 'acciaio_temperato', 'acciaio_temprato', 'Acciajo', 'Borurazione', 'cianurazione', 'ferro_di_palude', 'industria_siderurgica']\n",
      "\n",
      "('magistrato', 'giudice'), ('bn:00048488n', 'bn:00048488n'), ['giudice', 'magistrato', 'pretore', 'giùdice', 'azione_giudiziaria', 'giudici', 'giustizia', 'iudex', 'presidente'], ['giudice', 'magistrato', 'pretore', 'giùdice', 'azione_giudiziaria', 'giudici', 'giustizia', 'iudex', 'presidente']\n",
      "\n",
      "('caos', 'classe'), ('bn:00003840n', 'bn:00049570n'), ['anarchia', 'caos', 'Anarchica', 'Anarchiche', 'Anarchici', 'Anarchico', 'Gruppo_anarchico', 'anarchica', 'anarchiche', 'anarchici', 'anarchico', 'libertaria'], ['classe_lavoratrice', 'classe_operaia', 'popolo', 'proletariato', 'lavoro', 'lavoranti', 'lavoratori', 'Censi_Capite', 'Ceto_proletario', 'Classe_Operaia', 'Classe_proletaria', 'Proletari', 'Proletaria', 'Proletarii', 'Proletário', 'Working_class', 'capite_censi', 'classe_proletaria', 'classi_lavoratrici', 'proletari', 'proletaria', 'proletarii', 'proletario', 'working_class']\n",
      "\n",
      "('formazione a distanza', 'internet'), ('bn:00022863n', 'bn:00024712n'), ['corso_per_corrispondenza', 'formazione_a_distanza', 'corrispondenza_corso', 'corsi_per_corrispondenza', 'università_on-line'], ['cyberspazio', 'internet', 'Internet', 'rete', 'rete_di_calcolatori', 'rete_informatica', 'ciberspazio', 'cyberspaziali', 'grande_rete', 'INTERNET', 'Internet_in_Italia', 'rete_internet', 'servizi_internet']\n",
      "\n",
      "('sabbia', 'piede'), ('bn:00069126n', 'bn:00008782n'), ['arena', 'rena', 'sabbia', 'sabbie'], ['base', 'piedestallo', 'piedistallo', 'sottofondo', 'fondazione_(edilizia)', 'fondazioni', 'piede', 'fondazione', 'fondamenta', 'Fondazione_(architettura)', 'sottostruttura']\n",
      "\n",
      "('IMF', 'Deutsche Bank'), (None, None), [], []\n",
      "\n",
      "('Guardian', 'Times'), ('bn:00896958n', 'bn:00056300n'), ['Guardian_(Marvel_Comics)', 'Guardian'], ['moltiplica', 'moltiplicazione', 'moltiplicazioni', 'regola_dei_segni_del_prodotto', 'moltiplicare', 'times']\n",
      "\n",
      "('baco da seta', 'Via della Seta'), ('bn:00011961n', 'bn:00071602n'), ['baco_da_seta', 'Bombyx_mori', 'Bachi_da_seta', 'Baco_da_seta', 'Filugello', 'bachi_da_seta', 'Bombice_del_gelso', 'addomesticato_baco_da_seta_moth', 'bombyx_mori', 'domestico_del_baco_da_seta_moth', 'falena_seta'], ['via_della_seta', 'La_via_della_seta', 'Vie_della_Seta', 'Via_della_Seta', 'silk_road']\n",
      "\n",
      "('libertà', 'oasi'), ('bn:03737094n', 'bn:02670707n'), ['Libertas'], ['Oasi']\n",
      "\n",
      "('citoplasma', 'dito'), ('bn:00024905n', 'bn:00024979n'), ['citoplasma', 'sarcoplasma', 'citoplasmatica', 'cytol'], ['digito', 'dito', 'dita', 'polpastrello', 'cifra']\n",
      "\n",
      "('protestante', 'cristiano'), ('bn:00064869n', 'bn:00018828n'), ['protestantesimo', 'Protestantesimo', 'Chiesa_Protestante', 'Chiese_protestanti', 'Etica_protestante', 'Protestante', 'Protestanti', 'Religione_protestante', 'chiesa_protestante', 'dottrine_protestanti', 'etica_protestante', 'protestante', 'protestanti', 'religione_protestante', 'chiese_protestanti', 'cristianesimo_protestante', 'cristiano_protestante'], ['cristianesimo', 'Cristianesimo', 'cristianità', 'Chiese_cristiane', 'Confessioni_cristiane', 'Fede_cristiana', 'Religione_Cristiana', 'confessioni_cristiane', 'cristiani', 'fede_cristiana', 'religione_cristiana', 'cristianesimo_tradizionale', 'mainstream_cristianesimo']\n",
      "\n",
      "('Leonardo da Vinci', \"L'Ultima Cena\"), ('bn:00024948n', 'bn:03599114n'), ['Leonardo', 'Leonardo_da_Vinci', 'Leonardo_di_ser_Piero_da_Vinci', 'da_Vinci', 'Leonardo_Da_Vinci', 'da_vinci', 'leonardo', 'leonardo_da_vinci'], ['Ultima_Cena_(Leonardo)', 'Ultima_Cena', 'Cenacolo_vinciano', 'Il_Cenacolo', \"L'ultima_cena\", \"L'Ultima_Cena\", 'Cenacolo_Vinciano', \"L'ultima_cena_(Leonardo)\", 'Ultima_cena_(Leonardo)', 'Ultima_Cena_(Leonardo_da_Vinci)']\n",
      "\n",
      "('mappa', 'piazza'), ('bn:00036821n', 'bn:00053459n'), ['funzione', 'funzione_matematica', 'funzione_(matematica)', 'mappa_(matematica)', 'mappa', 'applicazione', 'f(x)', 'applicazione_(matematica)', 'Corrispondenza_univoca', 'dominio_(funzione)', 'Funzione_di_Leibniz', 'funzione_di_più_variabili', 'Funzione_in_più_variabili', 'Funzioni_di_più_variabili', 'trasformazione_(matematica)', 'mappatura', 'singola_funzione_a_valori', 'teoria_delle_funzioni'], ['mercato', 'piazza']\n",
      "\n",
      "---------------------------------------------------------------------------------------\n",
      "\n",
      "Correlazione di Spearman tra media annotatori e sistema: 0.7598361520760495\n",
      "\n",
      "\n",
      "Correlazione di Pearson tra media annotatori e sistema: (0.6835544611719425, 4.4822719312347896e-08)\n",
      "\n",
      "---------------------------------------------------------------------------------------\n",
      "\n",
      "Punteggio Kappa di Cohen tra annotatori: 0.7981632859017055\n",
      "\n",
      "---------------------------------------------------------------------------------------\n",
      "Accuratezza tra sistema e annotazione di Andrea: elementi singoli: 0.52, coppie: 0.32\n",
      "Accuratezza tra sistema e annotazione di Fabio: elementi singoli: 0.55, coppie: 0.36\n",
      "---------------------------------------------------------------------------------------\n"
     ]
    }
   ],
   "source": [
    "def mult(res):\n",
    "    return res*4\n",
    "\n",
    "result = []\n",
    "result_elem = []\n",
    "andrea_syn, fabio_syn = get_synsets_from_txt(PATH_SYN)\n",
    "andrea_val, fabio_val, mean_val = get_valutation_from_txt(PATH_VAL)\n",
    "\n",
    "print(\"---------------------------------------------------------------------------------------\")\n",
    "print(f\"\\nCorrelazione di Spearman tra annotatori: {stats.spearmanr(andrea_val, fabio_val).correlation}\\n\")\n",
    "print(f\"\\nCorrelazione di Pearson tra annotatori: {stats.pearsonr(andrea_val, fabio_val)}\\n\")\n",
    "print(\"---------------------------------------------------------------------------------------\")\n",
    "\n",
    "\n",
    "for tuple in words:\n",
    "    syn_1 = get_babel_syns(tuple[0], PATH_SEM)\n",
    "    syn_2 = get_babel_syns(tuple[1], PATH_SEM)\n",
    "    \n",
    "    sim_max, elements = get_nasari_valutation(syn_1, syn_2, nasari_dict)\n",
    "    \n",
    "    print(f\"{tuple}, {elements}, {list(dict.fromkeys(get_terms_by_babel_id(elements[0])))}, {list(dict.fromkeys(get_terms_by_babel_id(elements[1])))}\\n\")\n",
    "    \n",
    "    result.append(sim_max)\n",
    "    result_elem.append(elements)\n",
    "\n",
    "\n",
    "print(\"---------------------------------------------------------------------------------------\")\n",
    "print(f\"\\nCorrelazione di Spearman tra media annotatori e sistema: {stats.spearmanr(result, mean_val).correlation}\\n\")\n",
    "print(f\"\\nCorrelazione di Pearson tra media annotatori e sistema: {stats.pearsonr(result, mean_val)}\\n\")\n",
    "print(\"---------------------------------------------------------------------------------------\")\n",
    "\n",
    "print(f\"\\nPunteggio Kappa di Cohen tra annotatori: {cohen_kappa_score(andrea_syn, fabio_syn)}\\n\")\n",
    "\n",
    "print(\"---------------------------------------------------------------------------------------\")\n",
    "print(f\"Accuratezza tra sistema e annotazione di Andrea: {get_sense_valutation(andrea_syn, result_elem)}\")\n",
    "print(f\"Accuratezza tra sistema e annotazione di Fabio: {get_sense_valutation(fabio_syn, result_elem)}\")\n",
    "print(\"---------------------------------------------------------------------------------------\")\n",
    "\n",
    "#valutazione result elem confrontata a andrea_syn e fabio_syn"
   ]
  },
  {
   "cell_type": "markdown",
   "metadata": {},
   "source": []
  }
 ],
 "metadata": {
  "kernelspec": {
   "display_name": "Python 3.8.12 ('spacy')",
   "language": "python",
   "name": "python3"
  },
  "language_info": {
   "codemirror_mode": {
    "name": "ipython",
    "version": 3
   },
   "file_extension": ".py",
   "mimetype": "text/x-python",
   "name": "python",
   "nbconvert_exporter": "python",
   "pygments_lexer": "ipython3",
   "version": "3.8.12"
  },
  "orig_nbformat": 4,
  "vscode": {
   "interpreter": {
    "hash": "3525effbb77994477fa12acef781f772c9be5a5a62ddcd46b88c81c6046781ff"
   }
  }
 },
 "nbformat": 4,
 "nbformat_minor": 2
}
