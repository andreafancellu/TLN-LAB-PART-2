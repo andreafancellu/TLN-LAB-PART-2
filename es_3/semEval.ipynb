{
 "cells": [
  {
   "cell_type": "code",
   "execution_count": 2,
   "metadata": {},
   "outputs": [],
   "source": [
    "from scipy import stats"
   ]
  },
  {
   "cell_type": "code",
   "execution_count": 10,
   "metadata": {},
   "outputs": [],
   "source": [
    "def get_valutation_from_txt(path):\n",
    "    andrea_list = []\n",
    "    fabio_list = []\n",
    "    with open(path, 'r') as file:\n",
    "\n",
    "        for line in file.readlines():\n",
    "            print(line.split('    '))\n",
    "            andrea_list.append(line.split('    ')[2])\n",
    "            fabio_list.append(line.split('    ')[3])\n",
    "\n",
    "    return andrea_list, fabio_list"
   ]
  },
  {
   "cell_type": "code",
   "execution_count": 13,
   "metadata": {},
   "outputs": [
    {
     "name": "stdout",
     "output_type": "stream",
     "text": [
      "['cricket', 'sostenitore', '2.2', '2', '2.1\\n']\n",
      "['scultura', 'statua', '3.4', '4', '3.7\\n']\n",
      "['browser', 'Mozilla Firefox', '3', '3.5', '3.25\\n']\n",
      "['Fox Terrier', 'Canon', '0', '0', '0\\n']\n",
      "['HSBC', 'Gran Bretagna', '1', '1.3', '1.15\\n']\n",
      "['Bibbia', 'Vangelo', '3.5', '3', '3.25\\n']\n",
      "['vestito', 'danza', '0.8', '1', '0.9\\n']\n",
      "['array', 'lista', '3.3', '3.5', '3.4\\n']\n",
      "['cella', 'gattabuia', '3.8', '4', '3.9\\n']\n",
      "['saggio', 'compito a casa', '2', '2.4', '2.2\\n']\n",
      "['computer', 'macchina', '3', '2.6', '2.8\\n']\n",
      "['panda', 'orso polare', '3.1', '2.8', '2.05\\n']\n",
      "['nevrosi', 'mente', '2', '2', '2\\n']\n",
      "['campagna', 'scimmia', '0.2', '0', '0.1\\n']\n",
      "['costante di Faraday', 'zaino', '0', '0', '0\\n']\n",
      "['palazzo', 'grattacielo', '3.1', '3', '3.05\\n']\n",
      "['elicottero', 'aereo', '3', '3', '3\\n']\n",
      "['Università di Cambridge', 'Università di Oxford', '3.5', '3.2', '3.35\\n']\n",
      "['bandiera', 'asta', '2.4', '2.7', '2.55\\n']\n",
      "['finestra', 'tetto', '2', '2', '2\\n']\n",
      "['gioco di carte', 'frisbee', '1', '2', '1.5\\n']\n",
      "['malware', 'worm', '3.5', '3.5', '3.5\\n']\n",
      "['pianeta', 'stella', '3', '2.8', '2.9\\n']\n",
      "['corridore', 'atleta', '3', '3.2', '3.1\\n']\n",
      "['calibro', 'ombrello', '0', '0', '0\\n']\n",
      "['WiFi', 'WikiLeaks', '1', '1', '1\\n']\n",
      "['siccità', 'acqua', '1.5', '1.5', '1.5\\n']\n",
      "['aeroporto', 'pezzo', '0', '0', '0\\n']\n",
      "['orchestra', 'banda', '3', '3', '3\\n']\n",
      "['mojito', 'mohito', '4', '4', '4\\n']\n",
      "['programma', 'esame', '0.5', '2.3', '1.4\\n']\n",
      "['teorema', 'teoria', '3.1', '1.5', '2.3\\n']\n",
      "['yo-yo', 'giocattolo', '2.5', '3.5', '3\\n']\n",
      "['tormenta', 'pioggia', '2.9', '2.7', '2.8\\n']\n",
      "['storico', 'storiografo', '4', '4', '4\\n']\n",
      "['Siemens', 'treno elettrico', '0', '0', '0\\n']\n",
      "['secolo', 'anno', '3', '2.8', '2.9\\n']\n",
      "['lega', 'acciaio', '3.5', '3.5', '3.5\\n']\n",
      "['magistrato', 'giudice', '4', '3.2', '3.6\\n']\n",
      "['caos', 'classe', '0', '0', '0\\n']\n",
      "['formazione a distanza', 'internet', '1', '2', '1.5\\n']\n",
      "['sabbia', 'piede', '0', '0', '0\\n']\n",
      "['IMF', 'Deutsche Bank', '3', '2.5', '2.75\\n']\n",
      "['Guardian', 'Times', '3.1', '3.2', '3.15\\n']\n",
      "['baco da seta', 'Via della Seta', '0.7', '0', '0.35\\n']\n",
      "['libertà', 'oasi', '0', '0', '0\\n']\n",
      "['citoplasma', 'dito', '0', '0.5', '0.25\\n']\n",
      "['protestante', 'cristiano', '3.4', '3.4', '3.4\\n']\n",
      "['Leonardo da Vinci', \"L'Ultima Cena\", '2.8', '3.5', '3.15\\n']\n",
      "['mappa', 'piazza', '0.9', '0.9', '0.9']\n",
      "Lista di Andrea: ['2.2', '3.4', '3', '0', '1', '3.5', '0.8', '3.3', '3.8', '2', '3', '3.1', '2', '0.2', '0', '3.1', '3', '3.5', '2.4', '2', '1', '3.5', '3', '3', '0', '1', '1.5', '0', '3', '4', '0.5', '3.1', '2.5', '2.9', '4', '0', '3', '3.5', '4', '0', '1', '0', '3', '3.1', '0.7', '0', '0', '3.4', '2.8', '0.9']\n",
      "Lista di Fabio: ['2', '4', '3.5', '0', '1.3', '3', '1', '3.5', '4', '2.4', '2.6', '2.8', '2', '0', '0', '3', '3', '3.2', '2.7', '2', '2', '3.5', '2.8', '3.2', '0', '1', '1.5', '0', '3', '4', '2.3', '1.5', '3.5', '2.7', '4', '0', '2.8', '3.5', '3.2', '0', '2', '0', '2.5', '3.2', '0', '0', '0.5', '3.4', '3.5', '0.9']\n"
     ]
    }
   ],
   "source": [
    "PATH = '/home/fazza/Documents/TLN-LAB-PART-2/resources/annotations_fabio_andrea.txt'\n",
    "a,f = get_valutation_from_txt(PATH)\n",
    "\n",
    "print(f\"Lista di Andrea: {a}\")\n",
    "print(f\"Lista di Fabio: {f}\")\n",
    "\n"
   ]
  },
  {
   "cell_type": "markdown",
   "metadata": {},
   "source": []
  }
 ],
 "metadata": {
  "kernelspec": {
   "display_name": "Python 3.8.12 ('spacy')",
   "language": "python",
   "name": "python3"
  },
  "language_info": {
   "codemirror_mode": {
    "name": "ipython",
    "version": 3
   },
   "file_extension": ".py",
   "mimetype": "text/x-python",
   "name": "python",
   "nbconvert_exporter": "python",
   "pygments_lexer": "ipython3",
   "version": "3.8.12"
  },
  "orig_nbformat": 4,
  "vscode": {
   "interpreter": {
    "hash": "3525effbb77994477fa12acef781f772c9be5a5a62ddcd46b88c81c6046781ff"
   }
  }
 },
 "nbformat": 4,
 "nbformat_minor": 2
}
